{
  "nbformat": 4,
  "nbformat_minor": 0,
  "metadata": {
    "colab": {
      "provenance": []
    },
    "kernelspec": {
      "name": "python3",
      "display_name": "Python 3"
    },
    "language_info": {
      "name": "python"
    }
  },
  "cells": [
    {
      "cell_type": "markdown",
      "source": [
        "## numpy 와 닮은 파이토치 (pytorch)\n",
        "\n",
        "1.   항목 추가\n",
        "2.   항목 추가\n",
        "\n"
      ],
      "metadata": {
        "id": "RzMsP9hsc36l"
      }
    },
    {
      "cell_type": "code",
      "source": [
        "import torch\n",
        "a=torch.tensor([1,2,3,4])\n",
        "print(a)\n",
        "print(type(a))\n",
        "print(a.dtype) # data type\n",
        "print(a.shape)\n",
        "print(a)\n",
        "b=torch.tensor([1,2, 3.1   , 4])\n",
        "print(b.dtype) # 하나라도 실수면 자동으로 실수 타입으로\n",
        "print(b.shape)\n",
        "print(b)"
      ],
      "metadata": {
        "colab": {
          "base_uri": "https://localhost:8080/"
        },
        "id": "SAmMX78Lc3Iy",
        "outputId": "f44066f2-98f6-43d3-964e-df0a5c3adfc0"
      },
      "execution_count": 2,
      "outputs": [
        {
          "output_type": "stream",
          "name": "stdout",
          "text": [
            "tensor([1, 2, 3, 4])\n",
            "<class 'torch.Tensor'>\n",
            "torch.int64\n",
            "torch.Size([4])\n",
            "tensor([1, 2, 3, 4])\n",
            "torch.float32\n",
            "torch.Size([4])\n",
            "tensor([1.0000, 2.0000, 3.1000, 4.0000])\n"
          ]
        }
      ]
    },
    {
      "cell_type": "code",
      "source": [
        "A=torch.tensor([[1,2,3],[3,4,5]])\n",
        "# A=torch.tensor([[1,2],[3,4,5]]) # 리스트와는 달리 이제는 행렬이라서 각 행에 해당하는 숫자의 개수가 같아야 함\n",
        "print(A)\n",
        "print(A.shape) # 2행 3열\n",
        "print(A.ndim) # 차원의 수 바깥의 괄호 수가 차원을 나타냄\n",
        "print(A.size)\n",
        "print(A.numel()) # 전체 성분의 수"
      ],
      "metadata": {
        "colab": {
          "base_uri": "https://localhost:8080/"
        },
        "id": "QRPA6o3EdDy5",
        "outputId": "d938fe5c-8d89-4a4c-b5ad-4dd9e2811b9b"
      },
      "execution_count": null,
      "outputs": [
        {
          "output_type": "stream",
          "name": "stdout",
          "text": [
            "tensor([[1, 2, 3],\n",
            "        [3, 4, 5]])\n",
            "torch.Size([2, 3])\n",
            "2\n",
            "<built-in method size of Tensor object at 0x7867a868f420>\n",
            "6\n"
          ]
        }
      ]
    },
    {
      "cell_type": "code",
      "source": [
        "print(torch.zeros(5))\n",
        "print(torch.zeros(5).dtype)\n",
        "print(torch.zeros_like(A))\n",
        "print(torch.ones(5))\n",
        "print(torch.zeros( (3,3) )) # 튜플을 입력으로! 그냥 np.zeros(3,3)은 안돼요\n",
        "print(torch.arange(3,10,2)) # range랑 같은데 array로 만들어줌\n",
        "print(torch.arange(0,1,0.1)) # 소수점 가능 마지막 포함 안한다\n",
        "print(torch.linspace(0,1,10)) # 0 에서부터 1 포함(default) 10개로"
      ],
      "metadata": {
        "colab": {
          "base_uri": "https://localhost:8080/"
        },
        "id": "DtQ20sP8dv8i",
        "outputId": "9a2648b0-a414-4368-ef48-e415b3f7fcbe"
      },
      "execution_count": null,
      "outputs": [
        {
          "output_type": "stream",
          "name": "stdout",
          "text": [
            "tensor([0., 0., 0., 0., 0.])\n",
            "torch.float32\n",
            "tensor([[0, 0, 0],\n",
            "        [0, 0, 0]])\n",
            "tensor([1., 1., 1., 1., 1.])\n",
            "tensor([[0., 0., 0.],\n",
            "        [0., 0., 0.],\n",
            "        [0., 0., 0.]])\n",
            "tensor([3, 5, 7, 9])\n",
            "tensor([0.0000, 0.1000, 0.2000, 0.3000, 0.4000, 0.5000, 0.6000, 0.7000, 0.8000,\n",
            "        0.9000])\n",
            "tensor([0.0000, 0.1111, 0.2222, 0.3333, 0.4444, 0.5556, 0.6667, 0.7778, 0.8889,\n",
            "        1.0000])\n"
          ]
        }
      ]
    },
    {
      "cell_type": "code",
      "source": [
        "a=torch.tensor([1,2,3]) #1d tensor는 행렬이라고 하지 않는다\n",
        "b=torch.tensor([4,5,6])\n",
        "c=a+b\n",
        "print(c) # 드디어! 양 옆으로 길어지는 게 아닌 벡터의 합이 나옴! 리스트는 길어진다"
      ],
      "metadata": {
        "colab": {
          "base_uri": "https://localhost:8080/"
        },
        "id": "mEY_M0PPfRCz",
        "outputId": "950301aa-9a3d-4456-91a1-2e4b6bae6f3c"
      },
      "execution_count": null,
      "outputs": [
        {
          "output_type": "stream",
          "name": "stdout",
          "text": [
            "tensor([5, 7, 9])\n"
          ]
        }
      ]
    },
    {
      "cell_type": "code",
      "source": [
        "A=torch.tensor([[1,2,3],[1,2,3]])\n",
        "B=torch.tensor([[4,5,6],[1,1,1]])\n",
        "C=A+B\n",
        "D=A-B\n",
        "print(C)\n",
        "print(D)\n",
        "print()\n",
        "print(A*B) # 곱셈은? 성분끼리의 곱! (Hadamard product) 그래서 2 by 3도 가능하다\n",
        "print(A/B) # 나누기도 마찬가지\n",
        "print(B**2) # 제곱도 각 성분에 대해서 해준다"
      ],
      "metadata": {
        "colab": {
          "base_uri": "https://localhost:8080/"
        },
        "id": "zRGH_ASMfY5q",
        "outputId": "3d8c9641-6f56-4f5f-f03e-52d69019c3a1"
      },
      "execution_count": null,
      "outputs": [
        {
          "output_type": "stream",
          "name": "stdout",
          "text": [
            "tensor([[5, 7, 9],\n",
            "        [2, 3, 4]])\n",
            "tensor([[-3, -3, -3],\n",
            "        [ 0,  1,  2]])\n",
            "\n",
            "tensor([[ 4, 10, 18],\n",
            "        [ 1,  2,  3]])\n",
            "tensor([[0.2500, 0.4000, 0.5000],\n",
            "        [1.0000, 2.0000, 3.0000]])\n",
            "tensor([[16, 25, 36],\n",
            "        [ 1,  1,  1]])\n"
          ]
        }
      ]
    },
    {
      "cell_type": "code",
      "source": [
        "A=torch.tensor([[1,2],[3,4]])\n",
        "B=torch.tensor([[1,2],[3,4]])\n",
        "print(A*B)\n",
        "print(A@B) # 이게 진짜 행렬 곱하기"
      ],
      "metadata": {
        "colab": {
          "base_uri": "https://localhost:8080/"
        },
        "id": "LDMR3HebgeIS",
        "outputId": "f8577411-b243-477a-c64e-72e2a1e37f9b"
      },
      "execution_count": null,
      "outputs": [
        {
          "output_type": "stream",
          "name": "stdout",
          "text": [
            "tensor([[ 1,  4],\n",
            "        [ 9, 16]])\n",
            "tensor([[ 7, 10],\n",
            "        [15, 22]])\n"
          ]
        }
      ]
    },
    {
      "cell_type": "markdown",
      "source": [
        "## pytorch 의 인덱싱 슬라이스"
      ],
      "metadata": {
        "id": "lwIW_G6ThRuW"
      }
    },
    {
      "cell_type": "code",
      "source": [
        "a=torch.tensor([1,2,3,4,5,6,7,8,9])\n",
        "# 인덱싱과 슬라이싱, list할 때와 동일!\n",
        "print(a[0])\n",
        "print(a[1])\n",
        "print(a[-1]) # 맨 마지막\n",
        "print(a[1:4]) # 1번째부터 3번째까지\n",
        "print(a[7:]) # 7번째부터 마지막까지\n",
        "print(a[:7]) # 처음부터 6번째까지\n",
        "print(a[:]) # 전체"
      ],
      "metadata": {
        "colab": {
          "base_uri": "https://localhost:8080/"
        },
        "id": "EvEXUodtlOyq",
        "outputId": "6001036d-97fc-41ef-db8c-4cb5bbb00266"
      },
      "execution_count": null,
      "outputs": [
        {
          "output_type": "stream",
          "name": "stdout",
          "text": [
            "tensor(1)\n",
            "tensor(2)\n",
            "tensor(9)\n",
            "tensor([2, 3, 4])\n",
            "tensor([8, 9])\n",
            "tensor([1, 2, 3, 4, 5, 6, 7])\n",
            "tensor([1, 2, 3, 4, 5, 6, 7, 8, 9])\n"
          ]
        }
      ]
    },
    {
      "cell_type": "code",
      "source": [
        "# 행렬에 대한 인덱싱과 슬라이싱\n",
        "A=torch.tensor([[1,2,3],[4,5,6],[7,8,9]]) # 3 by 3\n",
        "print(A[0]) # 하나만 쓰면 행에 대한 인덱싱 (리스트 속 리스트 생각)\n",
        "print(A[-1])\n",
        "print(A[1:]) # 1번째 행부터 마지막까지\n",
        "print(A[:])\n",
        "print(A[0][2])\n",
        "print(A[0,2]) # 2차원 행렬도 동일한데, 리스트와 달리 이런 것도 됨\n",
        "print(A[1,:]) # 1 행, 전부\n",
        "print(A[1,0:3:2]) # 0부터 3미만번째 2간격 즉 0,2\n",
        "print(A[:,2]) # 전부, 2 열\n",
        "print(A[:][2]) # 이거는 다른 표현\n",
        "print()\n",
        "B=[[1,2,3,4], [5,6,7,8]] # 일반 리스트\n",
        "print(B)\n",
        "print(B[0][2])\n",
        "# print(B[0,2]) # error!"
      ],
      "metadata": {
        "colab": {
          "base_uri": "https://localhost:8080/"
        },
        "id": "4PSLeE0flTMC",
        "outputId": "5897f7e8-8448-4be3-f251-c2e72222d740"
      },
      "execution_count": null,
      "outputs": [
        {
          "output_type": "stream",
          "name": "stdout",
          "text": [
            "tensor([1, 2, 3])\n",
            "tensor([7, 8, 9])\n",
            "tensor([[4, 5, 6],\n",
            "        [7, 8, 9]])\n",
            "tensor([[1, 2, 3],\n",
            "        [4, 5, 6],\n",
            "        [7, 8, 9]])\n",
            "tensor(3)\n",
            "tensor(3)\n",
            "tensor([4, 5, 6])\n",
            "tensor([4, 6])\n",
            "tensor([3, 6, 9])\n",
            "tensor([7, 8, 9])\n",
            "\n",
            "[[1, 2, 3, 4], [5, 6, 7, 8]]\n",
            "3\n"
          ]
        }
      ]
    },
    {
      "cell_type": "code",
      "source": [
        "# 3차원 행렬 인덱싱\n",
        "A=torch.tensor([ [[0,1,2,3],[4,5,6,7],[8,9,10,11]] ,\n",
        "             [[12,13,14,15],[16,17,18,19],[20,21,22,23]] ]) # 3행 4열 짜리 두개 : 3차원\n",
        "print(A)\n",
        "print(A.shape) # 대괄호가 하나 늘어나면 왼쪽에 shape 값이 추가 된다. [2,3,4] 3 by 4 2개\n",
        "print(A[0,1,2]) # [채널, 행, 열]\n",
        "\n",
        "a=torch.tensor([[[1,2,3,4]]])\n",
        "print(a.shape)"
      ],
      "metadata": {
        "colab": {
          "base_uri": "https://localhost:8080/"
        },
        "id": "y6Zg1lZ9ZIBe",
        "outputId": "cd3852a2-afb1-47ef-f75e-64eae39c71f1"
      },
      "execution_count": null,
      "outputs": [
        {
          "output_type": "stream",
          "name": "stdout",
          "text": [
            "tensor([[[ 0,  1,  2,  3],\n",
            "         [ 4,  5,  6,  7],\n",
            "         [ 8,  9, 10, 11]],\n",
            "\n",
            "        [[12, 13, 14, 15],\n",
            "         [16, 17, 18, 19],\n",
            "         [20, 21, 22, 23]]])\n",
            "torch.Size([2, 3, 4])\n",
            "tensor(6)\n",
            "torch.Size([1, 1, 4])\n"
          ]
        }
      ]
    },
    {
      "cell_type": "code",
      "source": [
        "# boolean 인덱싱\n",
        "a=[1,2,3,4,5,3,3]\n",
        "print(a==3) # 여러개 값 들어있는 리스트랑 3 달랑 하나랑 같냐? 다르다!\n",
        "A=torch.tensor([[1,2,3,4],[5,3,7,3]])\n",
        "print(A==3) # 리스트와 달리 각 성분에 대해 비교해줌, 그래서 모든 원소 참 거짓이 출력된다\n",
        "print(A[A==3]) # True, False가 담긴 행렬로 인덱싱 가능!!\n",
        "A[A==3] = 100\n",
        "print(A) # 그러면 이런 것도 가능하다! (3과 같은 애를 100으로 바꿔줘)\n",
        "\n",
        "A=torch.tensor([[1,2],[3,4],[5,6],[7,8]])\n",
        "B=torch.tensor([True, False, False, True]) # 참고로 그냥 리스트여도 됨\n",
        "print(A[B,:]) # 0행, 3행 슬라이싱, true 가 박혀있는 행을 가져온다\n",
        "\n",
        "b=torch.tensor([1,2,3,4])\n",
        "print(b[[True,True,False,False]]) # bool 이 torch tensor가 아니어도 된다\n",
        "c=[1,2,3,4]\n",
        "# c[[True,True,False,False]] # error!"
      ],
      "metadata": {
        "colab": {
          "base_uri": "https://localhost:8080/"
        },
        "id": "DBjH6loolzdS",
        "outputId": "0045d8a4-4527-4c88-dd1a-97d6985706df"
      },
      "execution_count": null,
      "outputs": [
        {
          "output_type": "stream",
          "name": "stdout",
          "text": [
            "False\n",
            "tensor([[False, False,  True, False],\n",
            "        [False,  True, False,  True]])\n",
            "tensor([3, 3, 3])\n",
            "tensor([[  1,   2, 100,   4],\n",
            "        [  5, 100,   7, 100]])\n",
            "tensor([[1, 2],\n",
            "        [7, 8]])\n",
            "tensor([1, 2])\n"
          ]
        }
      ]
    },
    {
      "cell_type": "code",
      "source": [
        "# tensor로 인덱싱\n",
        "a=torch.tensor([1,2,3,4,5])\n",
        "A=a[2]\n",
        "print(A) # tensor(3)\n",
        "A=a[ torch.tensor(2) ] # torch.tensor 안에다가? torch tensor 로 인덱싱\n",
        "print(A)\n",
        "A=a[ torch.tensor([2,3,4]) ]\n",
        "print(A)\n",
        "A=a[ torch.tensor([[2,2,2],[3,3,3]]) ]\n",
        "print(A) # 인덱싱된 애들로 2행 3열짜리 행렬을 만든다\n",
        "\n",
        "a=[1,2,3]\n",
        "# a[ [1,1,1,1,2,2,2] ] # error! 리스트로는 안된다\n",
        "\n",
        "a= torch.tensor([[1,2,3],[4,5,6]])\n",
        "print(a[0])\n",
        "A=a[ torch.tensor([[0,1],[1,1]]) ]\n",
        "print(A.shape) # 예를 들어, a[0] = array([1,2,3])과 같이 1차원 데이터이므로 한 차원이 뒤에 늘어나서 2,2, \"3\" 이 된다!\n",
        "print(A) # segmentation 결과 그림 보여줄 때 사용!\n",
        "print(A.size()) # Shape 랑 size() 는 똑같다"
      ],
      "metadata": {
        "colab": {
          "base_uri": "https://localhost:8080/"
        },
        "id": "FzKn6wIJZAgn",
        "outputId": "5f8a901f-2061-4cd0-82a4-252240a64fea"
      },
      "execution_count": null,
      "outputs": [
        {
          "output_type": "stream",
          "name": "stdout",
          "text": [
            "tensor(3)\n",
            "tensor(3)\n",
            "tensor([3, 4, 5])\n",
            "tensor([[3, 3, 3],\n",
            "        [4, 4, 4]])\n",
            "tensor([1, 2, 3])\n",
            "tensor([2, 5])\n",
            "torch.Size([2, 2, 3])\n",
            "tensor([[[1, 2, 3],\n",
            "         [4, 5, 6]],\n",
            "\n",
            "        [[4, 5, 6],\n",
            "         [4, 5, 6]]])\n",
            "torch.Size([2, 2, 3])\n"
          ]
        }
      ]
    },
    {
      "cell_type": "code",
      "source": [
        "A=torch.tensor([[1,2],[3,4],[5,6],[7,8]])\n",
        "print(A)\n",
        "print(A.shape)\n",
        "\n",
        "# 1. A[몇 번째 행이냐, 몇 번째 열이냐]\n",
        "print(A[0,1])\n",
        "# 2. A[ tensor(bool) ] => A와 같은 shape을 가지는 tensor bool이 어디에 True를 가지고 있냐\n",
        "print(A[ torch.tensor([[False,True],[True,True],[False,False],[False,False]]) ])\n",
        "print()\n",
        "print(A[A==2])\n",
        "print()\n",
        "# 3. A[몇 번째 값에 True가 있냐, 몇 번째 값에 True가 있냐]\n",
        "print(A[ [True,False,False,True], [False,True] ])\n",
        "# 4. A[ tensor ] # 몇 번째 것을 어떻게 쌓을거냐\n",
        "print(A[ torch.tensor([1,1,2,2,2]) ])"
      ],
      "metadata": {
        "colab": {
          "base_uri": "https://localhost:8080/"
        },
        "id": "BBEF3i6xl1sK",
        "outputId": "1870df2d-dc2e-4cee-962c-82b18bb72430"
      },
      "execution_count": null,
      "outputs": [
        {
          "output_type": "stream",
          "name": "stdout",
          "text": [
            "tensor([[1, 2],\n",
            "        [3, 4],\n",
            "        [5, 6],\n",
            "        [7, 8]])\n",
            "torch.Size([4, 2])\n",
            "tensor(2)\n",
            "tensor([2, 3, 4])\n",
            "\n",
            "tensor([2])\n",
            "\n",
            "tensor([2, 8])\n",
            "tensor([[3, 4],\n",
            "        [3, 4],\n",
            "        [5, 6],\n",
            "        [5, 6],\n",
            "        [5, 6]])\n"
          ]
        }
      ]
    },
    {
      "cell_type": "markdown",
      "source": [
        "## pytorch의 여러 함수들"
      ],
      "metadata": {
        "id": "QYBXKfCupHU9"
      }
    },
    {
      "cell_type": "code",
      "source": [
        "A=torch.randn(3,3) # 여긴 튜플로 안줘도 됨 3행 3열짜리 0과 1사이에 평균 0, 분산 1 정규분포에 따라\n",
        "# 곱하면 분산이 바뀌고 더하면 평균이 바뀐다.\n",
        "B=torch.rand(3,3) # 여긴 튜플로 안줘도 됨 3행 3열짜리 0과 1사이에 균등분포(uniform)에 따라\n",
        "print(A)\n",
        "print(B)\n",
        "print(A[A[:,0]<0,:]) # 행이 박힌 다음 모든 열을 출력"
      ],
      "metadata": {
        "colab": {
          "base_uri": "https://localhost:8080/"
        },
        "id": "0lfFqRGOpI-0",
        "outputId": "0dadaf86-9d96-4701-ddbc-0b43873e6226"
      },
      "execution_count": 15,
      "outputs": [
        {
          "output_type": "stream",
          "name": "stdout",
          "text": [
            "tensor([[ 0.0181, -2.3493, -0.8805],\n",
            "        [-0.4624,  0.4776, -0.1686],\n",
            "        [-0.0952,  0.9685, -1.1741]])\n",
            "tensor([[0.8667, 0.8274, 0.5715],\n",
            "        [0.0708, 0.9927, 0.2944],\n",
            "        [0.7093, 0.6061, 0.4261]])\n",
            "tensor([[-0.4624,  0.4776, -0.1686],\n",
            "        [-0.0952,  0.9685, -1.1741]])\n"
          ]
        }
      ]
    },
    {
      "cell_type": "code",
      "source": [
        "A=torch.randn(3,3)\n",
        "print(A)\n",
        "print(torch.abs(A))\n",
        "print(torch.sqrt(torch.abs(A)))\n",
        "print(torch.exp(A))\n",
        "print(torch.log(torch.abs(A)))\n",
        "print(torch.log(torch.exp(torch.tensor(1)))) # 기본 torch.log 의 밑은 e이다\n",
        "print(torch.log10(torch.tensor(10))) # 밑을 따로 지정\n",
        "print(torch.log2(torch.tensor(2)))\n",
        "print(torch.round(A)) # 반올림\n",
        "print(torch.round(A,decimals=2)) # 소수점 둘째자리까지\n",
        "print(torch.floor(A)) # 내림\n",
        "print(torch.ceil(A)) # 올림"
      ],
      "metadata": {
        "colab": {
          "base_uri": "https://localhost:8080/"
        },
        "id": "J6KxUXALpniU",
        "outputId": "27fb15d7-5299-4a21-f000-04576b2d796f"
      },
      "execution_count": 27,
      "outputs": [
        {
          "output_type": "stream",
          "name": "stdout",
          "text": [
            "tensor([[-0.4435,  1.2068,  0.2651],\n",
            "        [ 1.2006,  0.4480, -1.2392],\n",
            "        [-0.3374,  1.2980,  1.2362]])\n",
            "tensor([[0.4435, 1.2068, 0.2651],\n",
            "        [1.2006, 0.4480, 1.2392],\n",
            "        [0.3374, 1.2980, 1.2362]])\n",
            "tensor([[0.6660, 1.0986, 0.5149],\n",
            "        [1.0957, 0.6693, 1.1132],\n",
            "        [0.5808, 1.1393, 1.1119]])\n",
            "tensor([[0.6418, 3.3429, 1.3036],\n",
            "        [3.3222, 1.5652, 0.2896],\n",
            "        [0.7137, 3.6620, 3.4426]])\n",
            "tensor([[-0.8131,  0.1880, -1.3275],\n",
            "        [ 0.1828, -0.8029,  0.2144],\n",
            "        [-1.0866,  0.2608,  0.2121]])\n",
            "tensor(1.)\n",
            "tensor(1.)\n",
            "tensor(1.)\n",
            "tensor([[-0.,  1.,  0.],\n",
            "        [ 1.,  0., -1.],\n",
            "        [-0.,  1.,  1.]])\n",
            "tensor([[-0.4400,  1.2100,  0.2700],\n",
            "        [ 1.2000,  0.4500, -1.2400],\n",
            "        [-0.3400,  1.3000,  1.2400]])\n",
            "tensor([[-1.,  1.,  0.],\n",
            "        [ 1.,  0., -2.],\n",
            "        [-1.,  1.,  1.]])\n",
            "tensor([[-0.,  2.,  1.],\n",
            "        [ 2.,  1., -1.],\n",
            "        [-0.,  2.,  2.]])\n"
          ]
        }
      ]
    },
    {
      "cell_type": "code",
      "source": [
        "print(torch.sin(torch.tensor(torch.pi/6)))\n",
        "print(torch.cos(torch.tensor(torch.pi/3)))\n",
        "print(torch.tan(torch.tensor(torch.pi/4)))\n",
        "print(torch.tanh(torch.tensor(-10)))"
      ],
      "metadata": {
        "colab": {
          "base_uri": "https://localhost:8080/"
        },
        "id": "PFPjWX54qaXi",
        "outputId": "60290ea6-bc7e-4899-bc88-8e71bf705db0"
      },
      "execution_count": 29,
      "outputs": [
        {
          "output_type": "stream",
          "name": "stdout",
          "text": [
            "tensor(0.5000)\n",
            "tensor(0.5000)\n",
            "tensor(1.)\n",
            "tensor(-1.)\n"
          ]
        }
      ]
    },
    {
      "cell_type": "code",
      "source": [
        "torch.nan # not a number\n",
        "print(torch.isnan(torch.tensor([1,2,torch.nan,3,4]))) # nan이 있는지 없는지\n",
        "print(torch.isinf(torch.tensor([1,2,3,4,torch.inf])))"
      ],
      "metadata": {
        "colab": {
          "base_uri": "https://localhost:8080/"
        },
        "id": "huDfIsJoqdDa",
        "outputId": "3e065664-ede8-4e9d-d63f-046579ace707"
      },
      "execution_count": 30,
      "outputs": [
        {
          "output_type": "stream",
          "name": "stdout",
          "text": [
            "tensor([False, False,  True, False, False])\n",
            "tensor([False, False, False, False,  True])\n"
          ]
        }
      ]
    },
    {
      "cell_type": "code",
      "source": [
        "A=torch.randn(3,4)\n",
        "print(A)\n",
        "print(torch.max(A)) # 가장 큰 값만 나옴\n",
        "print(torch.max(A,dim=0)) # dim까지 써주면 인덱스까지 리턴, 행끼리 비교\n",
        "print()\n",
        "print(torch.max(A,dim=1)) # 1D array로 바꿔버림, 열끼리 비교\n",
        "print(torch.max(A,dim=0, keepdims=True))\n",
        "print(torch.max(A,dim=1, keepdims=True)) # 3 행 1열 짜리 2D array\n",
        "print(torch.min(A))\n",
        "print(torch.min(A,dim=0))\n",
        "print(torch.min(A,dim=1))\n",
        "print(torch.argmax(A)) # 가장 큰 놈의 인덱스를 뱉어라 ex)0~10\n",
        "print(torch.argmax(A,dim=0)) # 각 열에서 가장 큰 애가 존재하는 인덱스\n",
        "print(torch.argmax(A,dim=1)) # 각 행에서 가장 큰 애가 존재하는 인덱스"
      ],
      "metadata": {
        "colab": {
          "base_uri": "https://localhost:8080/"
        },
        "id": "C9G0Rdhiqn3a",
        "outputId": "a7b6cdfb-6c37-4402-afea-a43845d71774"
      },
      "execution_count": 36,
      "outputs": [
        {
          "output_type": "stream",
          "name": "stdout",
          "text": [
            "tensor([[ 1.6149,  0.2171,  1.3518, -0.9073],\n",
            "        [-0.0726,  1.1452, -0.4244,  0.5735],\n",
            "        [-2.1336, -1.1514,  0.2474,  0.1787]])\n",
            "tensor(1.6149)\n",
            "torch.return_types.max(\n",
            "values=tensor([1.6149, 1.1452, 1.3518, 0.5735]),\n",
            "indices=tensor([0, 1, 0, 1]))\n",
            "\n",
            "torch.return_types.max(\n",
            "values=tensor([1.6149, 1.1452, 0.2474]),\n",
            "indices=tensor([0, 1, 2]))\n",
            "torch.return_types.max(\n",
            "values=tensor([[1.6149, 1.1452, 1.3518, 0.5735]]),\n",
            "indices=tensor([[0, 1, 0, 1]]))\n",
            "torch.return_types.max(\n",
            "values=tensor([[1.6149],\n",
            "        [1.1452],\n",
            "        [0.2474]]),\n",
            "indices=tensor([[0],\n",
            "        [1],\n",
            "        [2]]))\n",
            "tensor(-2.1336)\n",
            "torch.return_types.min(\n",
            "values=tensor([-2.1336, -1.1514, -0.4244, -0.9073]),\n",
            "indices=tensor([2, 2, 1, 0]))\n",
            "torch.return_types.min(\n",
            "values=tensor([-0.9073, -0.4244, -2.1336]),\n",
            "indices=tensor([3, 2, 0]))\n",
            "tensor(0)\n",
            "tensor([0, 1, 0, 1])\n",
            "tensor([0, 1, 2])\n"
          ]
        }
      ]
    },
    {
      "cell_type": "code",
      "source": [
        "a=torch.randn(6,1)\n",
        "print(a)\n",
        "a_sorted=torch.sort(a,dim=0) # 기본 오름차순\n",
        "print(a_sorted)\n",
        "a_sorted=torch.sort(a,dim=0,descending=True) # 내림차순\n",
        "print(a_sorted)\n",
        "print(a.sort(dim=0))\n",
        "print(a.max())\n",
        "print(torch.argmax(a))"
      ],
      "metadata": {
        "colab": {
          "base_uri": "https://localhost:8080/"
        },
        "id": "5h8JeQ8bqsrv",
        "outputId": "ac8c2d45-b900-46a5-ebd9-639d99254d7e"
      },
      "execution_count": 47,
      "outputs": [
        {
          "output_type": "stream",
          "name": "stdout",
          "text": [
            "tensor([[ 1.6213],\n",
            "        [ 0.4827],\n",
            "        [-1.0798],\n",
            "        [ 0.9387],\n",
            "        [ 0.3514],\n",
            "        [-0.7336]])\n",
            "torch.return_types.sort(\n",
            "values=tensor([[-1.0798],\n",
            "        [-0.7336],\n",
            "        [ 0.3514],\n",
            "        [ 0.4827],\n",
            "        [ 0.9387],\n",
            "        [ 1.6213]]),\n",
            "indices=tensor([[2],\n",
            "        [5],\n",
            "        [4],\n",
            "        [1],\n",
            "        [3],\n",
            "        [0]]))\n",
            "torch.return_types.sort(\n",
            "values=tensor([[ 1.6213],\n",
            "        [ 0.9387],\n",
            "        [ 0.4827],\n",
            "        [ 0.3514],\n",
            "        [-0.7336],\n",
            "        [-1.0798]]),\n",
            "indices=tensor([[0],\n",
            "        [3],\n",
            "        [1],\n",
            "        [4],\n",
            "        [5],\n",
            "        [2]]))\n",
            "torch.return_types.sort(\n",
            "values=tensor([[-1.0798],\n",
            "        [-0.7336],\n",
            "        [ 0.3514],\n",
            "        [ 0.4827],\n",
            "        [ 0.9387],\n",
            "        [ 1.6213]]),\n",
            "indices=tensor([[2],\n",
            "        [5],\n",
            "        [4],\n",
            "        [1],\n",
            "        [3],\n",
            "        [0]]))\n",
            "tensor(1.6213)\n",
            "tensor(0)\n"
          ]
        }
      ]
    },
    {
      "cell_type": "code",
      "source": [
        "A=torch.randn(3,4)\n",
        "print(A)\n",
        "print(torch.sum(A))\n",
        "print(torch.sum(A,dim=0))\n",
        "print(torch.sum(A,dim=1))\n",
        "print(torch.sum(A,dim=0,keepdims=True)) # dimesion을 유지해달라\n",
        "print(torch.sum(A,dim=1,keepdims=True)) # dimesion을 유지해달라 shape이 맞춰진다\n",
        "print(torch.mean(A))\n",
        "print(torch.mean(A,dim=1))\n",
        "print(torch.mean(A,dim=1,keepdims=True))\n",
        "print(torch.std(A)) # standard deviation 표준 편차\n",
        "\n",
        "print(A.sum(dim=1, keepdims=True))\n",
        "print(A.mean(dim=1, keepdims=True))\n",
        "print(A.std())"
      ],
      "metadata": {
        "colab": {
          "base_uri": "https://localhost:8080/"
        },
        "id": "KJUEZtB4rglS",
        "outputId": "a270cc3b-0438-44c4-8ec8-0fc1743390ed"
      },
      "execution_count": 49,
      "outputs": [
        {
          "output_type": "stream",
          "name": "stdout",
          "text": [
            "tensor([[ 0.6258,  0.1942,  0.9174, -0.4516],\n",
            "        [-0.7273,  0.5736, -0.9398,  1.0399],\n",
            "        [-0.0180, -0.3654,  0.1104, -0.4740]])\n",
            "tensor(0.4852)\n",
            "tensor([-0.1195,  0.4025,  0.0880,  0.1142])\n",
            "tensor([ 1.2858, -0.0536, -0.7469])\n",
            "tensor([[-0.1195,  0.4025,  0.0880,  0.1142]])\n",
            "tensor([[ 1.2858],\n",
            "        [-0.0536],\n",
            "        [-0.7469]])\n",
            "tensor(0.0404)\n",
            "tensor([ 0.3214, -0.0134, -0.1867])\n",
            "tensor([[ 0.3214],\n",
            "        [-0.0134],\n",
            "        [-0.1867]])\n",
            "tensor(0.6501)\n",
            "tensor([[ 1.2858],\n",
            "        [-0.0536],\n",
            "        [-0.7469]])\n",
            "tensor([[ 0.3214],\n",
            "        [-0.0134],\n",
            "        [-0.1867]])\n",
            "tensor(0.6501)\n"
          ]
        }
      ]
    },
    {
      "cell_type": "code",
      "source": [
        "A=torch.randint(1,5,size=(12,)) # 1부터 5미만 12개 정수 (1 차원은 (N,) 과 같이 표현)\n",
        "print(A)\n",
        "print(A.shape)\n",
        "\n",
        "B=A.reshape(2,2,3) # 중요\n",
        "print(B)\n",
        "print(B.ndim) # 3 차원 행렬이다"
      ],
      "metadata": {
        "colab": {
          "base_uri": "https://localhost:8080/"
        },
        "id": "CmuensVlsERE",
        "outputId": "1b37a0d5-deae-4d30-84db-09ec179b95c2"
      },
      "execution_count": 54,
      "outputs": [
        {
          "output_type": "stream",
          "name": "stdout",
          "text": [
            "tensor([3, 2, 4, 2, 4, 3, 3, 1, 1, 1, 2, 3])\n",
            "torch.Size([12])\n",
            "tensor([[[3, 2, 4],\n",
            "         [2, 4, 3]],\n",
            "\n",
            "        [[3, 1, 1],\n",
            "         [1, 2, 3]]])\n",
            "3\n"
          ]
        }
      ]
    },
    {
      "cell_type": "code",
      "source": [
        "a=torch.tensor([1,2,3])\n",
        "b=torch.tensor([2,2,1])\n",
        "print(torch.sum(a*b))\n",
        "\n",
        "a=a.reshape(3,1)\n",
        "b=b.reshape(3,1)\n",
        "print(a.transpose(1,0)@b)\n",
        "print(a.permute(1,0)@b)\n",
        "print(a.T@b)\n",
        "print(a.t()@b)\n",
        "\n",
        "A=torch.randn(4,3,6)\n",
        "print(A.permute(0,2,1).shape)"
      ],
      "metadata": {
        "colab": {
          "base_uri": "https://localhost:8080/"
        },
        "id": "VdXu_OZ1sgNK",
        "outputId": "d8fcb7c2-3d22-4d22-de36-c01d0c28f7f7"
      },
      "execution_count": 60,
      "outputs": [
        {
          "output_type": "stream",
          "name": "stdout",
          "text": [
            "tensor(9)\n",
            "tensor([[9]])\n",
            "tensor([[9]])\n",
            "tensor([[9]])\n",
            "tensor([[9]])\n",
            "torch.Size([4, 6, 3])\n"
          ]
        }
      ]
    },
    {
      "cell_type": "code",
      "source": [
        "A=torch.arange(20)\n",
        "print(A)\n",
        "print(A.reshape(4,5))\n",
        "print(A.reshape(4,-1).shape) # 4개 행이 될 수 있도록 알아서 열의 수를 맞춰라\n",
        "print(A.reshape(2,5,-1).shape)\n",
        "print(A.reshape(2,-1,5).shape)\n",
        "print(A.reshape(1,-1).shape) # 2차원 행 벡터\n",
        "print(A.reshape(-1,1).shape) # 2차원 열 벡터"
      ],
      "metadata": {
        "colab": {
          "base_uri": "https://localhost:8080/"
        },
        "id": "aYsTsVD7sjmj",
        "outputId": "654d45b6-28c1-4036-e69d-f4b4d5d68245"
      },
      "execution_count": 63,
      "outputs": [
        {
          "output_type": "stream",
          "name": "stdout",
          "text": [
            "tensor([ 0,  1,  2,  3,  4,  5,  6,  7,  8,  9, 10, 11, 12, 13, 14, 15, 16, 17,\n",
            "        18, 19])\n",
            "tensor([[ 0,  1,  2,  3,  4],\n",
            "        [ 5,  6,  7,  8,  9],\n",
            "        [10, 11, 12, 13, 14],\n",
            "        [15, 16, 17, 18, 19]])\n",
            "torch.Size([4, 5])\n",
            "torch.Size([2, 5, 2])\n",
            "torch.Size([2, 2, 5])\n",
            "torch.Size([1, 20])\n",
            "torch.Size([20, 1])\n"
          ]
        }
      ]
    },
    {
      "cell_type": "code",
      "source": [
        "x=torch.randn(2,3,4,5,6)\n",
        "print(x[1,2,:,:,:].shape)\n",
        "print(x[1,2,...].shape) # x[1, 2, …] 는 x[1, 2, :, :, :] 와 같습니다.\n",
        "print(x[:,:,:,:,3].shape)\n",
        "print(x[...,3].shape) # x[…, 3] 는 x[:, :, :, :, 3] 와 같습니다.\n",
        "print(x[1,:,:,3,:].shape)\n",
        "print(x[1,...,3,:].shape) # x[1, …, 3, :] 는 x[1, :, :, 3, :] 와 같습니다."
      ],
      "metadata": {
        "colab": {
          "base_uri": "https://localhost:8080/"
        },
        "id": "VFBBHxp2zFyr",
        "outputId": "9927368c-f0e6-4c84-8317-5a40208332c1"
      },
      "execution_count": 66,
      "outputs": [
        {
          "output_type": "stream",
          "name": "stdout",
          "text": [
            "torch.Size([4, 5, 6])\n",
            "torch.Size([4, 5, 6])\n",
            "torch.Size([2, 3, 4, 5])\n",
            "torch.Size([2, 3, 4, 5])\n",
            "torch.Size([3, 4, 6])\n",
            "torch.Size([3, 4, 6])\n"
          ]
        }
      ]
    },
    {
      "cell_type": "code",
      "source": [
        "A=torch.ones((2,3,4))\n",
        "B=torch.zeros((2,3,4))\n",
        "\n",
        "C=torch.vstack([A,B]) # dim=0에 대해서 쌓는다\n",
        "D=torch.hstack([A,B]) # dim=1에 대해서 쌓는다\n",
        "\n",
        "E=torch.cat([A,B], dim=0)\n",
        "F=torch.cat([A,B], dim=1)\n",
        "G=torch.cat([A,B], dim=2)\n",
        "\n",
        "print(C.shape)\n",
        "print(D.shape)\n",
        "print(E.shape)\n",
        "print(F.shape)\n",
        "print(G.shape)"
      ],
      "metadata": {
        "colab": {
          "base_uri": "https://localhost:8080/"
        },
        "id": "VsBKRAiJzbBz",
        "outputId": "5f43034e-9981-40ba-b8c6-aed481ba6e12"
      },
      "execution_count": 78,
      "outputs": [
        {
          "output_type": "stream",
          "name": "stdout",
          "text": [
            "torch.Size([4, 3, 4])\n",
            "torch.Size([2, 6, 4])\n",
            "torch.Size([4, 3, 4])\n",
            "torch.Size([2, 6, 4])\n",
            "torch.Size([2, 3, 8])\n"
          ]
        }
      ]
    },
    {
      "cell_type": "code",
      "source": [
        "A = torch.randn(1,1,1,3,1,1,4,1)\n",
        "# print(A)\n",
        "print(A.shape)\n",
        "print(A.squeeze().shape) # 쥐어짜서 1짜리를 없앤다"
      ],
      "metadata": {
        "colab": {
          "base_uri": "https://localhost:8080/"
        },
        "id": "EOsKnQTvzeAL",
        "outputId": "0a2d3453-dbec-4c94-b1f8-90893c28ebb4"
      },
      "execution_count": 83,
      "outputs": [
        {
          "output_type": "stream",
          "name": "stdout",
          "text": [
            "torch.Size([1, 1, 1, 3, 1, 1, 4, 1])\n",
            "torch.Size([3, 4])\n"
          ]
        }
      ]
    },
    {
      "cell_type": "code",
      "source": [
        "A=torch.randn(3,4)\n",
        "print(A.unsqueeze(dim=0).shape) # 차원을 하나 늘린다\n",
        "print(A.unsqueeze(dim=1).shape)\n",
        "print(A.unsqueeze(dim=2).shape)\n",
        "print(A.reshape(1,3,4).shape)\n",
        "print(A.reshape(3,1,4).shape)\n",
        "print(A.reshape(3,4,1).shape)"
      ],
      "metadata": {
        "colab": {
          "base_uri": "https://localhost:8080/"
        },
        "id": "fgFgG48p02YK",
        "outputId": "dbe1e3e2-a933-4ef7-d2ee-a3007f95ac36"
      },
      "execution_count": 87,
      "outputs": [
        {
          "output_type": "stream",
          "name": "stdout",
          "text": [
            "torch.Size([1, 3, 4])\n",
            "torch.Size([3, 1, 4])\n",
            "torch.Size([3, 4, 1])\n",
            "torch.Size([1, 3, 4])\n",
            "torch.Size([3, 1, 4])\n",
            "torch.Size([3, 4, 1])\n"
          ]
        }
      ]
    },
    {
      "cell_type": "code",
      "source": [
        "A=torch.ones(3,4)\n",
        "B=torch.zeros(3,4)\n",
        "print(A)\n",
        "print(B)\n",
        "A=A.unsqueeze(dim=0)\n",
        "B=B.unsqueeze(dim=0)\n",
        "C=torch.cat([A,B],dim=0)\n",
        "print(C)\n",
        "print(C.shape)"
      ],
      "metadata": {
        "colab": {
          "base_uri": "https://localhost:8080/"
        },
        "id": "pugSVrBkzsRy",
        "outputId": "b3f4eac9-33cb-42d5-a7f1-501be8b697c9"
      },
      "execution_count": 90,
      "outputs": [
        {
          "output_type": "stream",
          "name": "stdout",
          "text": [
            "tensor([[1., 1., 1., 1.],\n",
            "        [1., 1., 1., 1.],\n",
            "        [1., 1., 1., 1.]])\n",
            "tensor([[0., 0., 0., 0.],\n",
            "        [0., 0., 0., 0.],\n",
            "        [0., 0., 0., 0.]])\n",
            "tensor([[[1., 1., 1., 1.],\n",
            "         [1., 1., 1., 1.],\n",
            "         [1., 1., 1., 1.]],\n",
            "\n",
            "        [[0., 0., 0., 0.],\n",
            "         [0., 0., 0., 0.],\n",
            "         [0., 0., 0., 0.]]])\n",
            "torch.Size([2, 3, 4])\n"
          ]
        }
      ]
    },
    {
      "cell_type": "code",
      "source": [
        "A=torch.tensor([[1,2],[3,4]])\n",
        "B=A.clone() # 그냥 B=A 하면 주소가 복사된다\n",
        "B[0,0]=100\n",
        "\n",
        "print(B)\n",
        "print(A)"
      ],
      "metadata": {
        "colab": {
          "base_uri": "https://localhost:8080/"
        },
        "id": "w2HrXVkC0NjZ",
        "outputId": "2d9b0b6e-6f59-4ec6-b046-2828c3216090"
      },
      "execution_count": 92,
      "outputs": [
        {
          "output_type": "stream",
          "name": "stdout",
          "text": [
            "tensor([[100,   2],\n",
            "        [  3,   4]])\n",
            "tensor([[1, 2],\n",
            "        [3, 4]])\n"
          ]
        }
      ]
    }
  ]
}